{
  "nbformat": 4,
  "nbformat_minor": 0,
  "metadata": {
    "colab": {
      "name": "FoodDetectorInceptionV3.ipynb",
      "provenance": [],
      "mount_file_id": "1fLsjErc8Dny2fRmdpqj1cFBh3qTeCAXc",
      "authorship_tag": "ABX9TyP1YnIw2uJYnPM/u6DRGoFA"
    },
    "kernelspec": {
      "name": "python3",
      "display_name": "Python 3"
    },
    "accelerator": "GPU"
  },
  "cells": [
    {
      "cell_type": "code",
      "metadata": {
        "id": "iWi7QgcBk5uL"
      },
      "source": [
        "!mkdir OpenImages"
      ],
      "execution_count": null,
      "outputs": []
    },
    {
      "cell_type": "code",
      "metadata": {
        "colab": {
          "base_uri": "https://localhost:8080/"
        },
        "id": "wvWGndH2mIVC",
        "outputId": "caf80063-74bf-49af-88ec-8ec5e25a382c"
      },
      "source": [
        "cd OpenImages"
      ],
      "execution_count": null,
      "outputs": [
        {
          "output_type": "stream",
          "text": [
            "/content/OpenImages\n"
          ],
          "name": "stdout"
        }
      ]
    },
    {
      "cell_type": "code",
      "metadata": {
        "colab": {
          "base_uri": "https://localhost:8080/"
        },
        "id": "eoc3dI3amklp",
        "outputId": "195ff4ae-a54b-48cd-c9b1-534acc82d277"
      },
      "source": [
        "!wget https://s3.amazonaws.com/fast-ai-imageclas/food-101.tgz"
      ],
      "execution_count": null,
      "outputs": [
        {
          "output_type": "stream",
          "text": [
            "--2020-12-24 12:32:15--  https://s3.amazonaws.com/fast-ai-imageclas/food-101.tgz\n",
            "Resolving s3.amazonaws.com (s3.amazonaws.com)... 52.217.80.110\n",
            "Connecting to s3.amazonaws.com (s3.amazonaws.com)|52.217.80.110|:443... connected.\n",
            "HTTP request sent, awaiting response... 200 OK\n",
            "Length: 5686607260 (5.3G) [application/x-tar]\n",
            "Saving to: ‘food-101.tgz’\n",
            "\n",
            "food-101.tgz        100%[===================>]   5.30G  48.1MB/s    in 1m 58s  \n",
            "\n",
            "2020-12-24 12:34:14 (45.8 MB/s) - ‘food-101.tgz’ saved [5686607260/5686607260]\n",
            "\n"
          ],
          "name": "stdout"
        }
      ]
    },
    {
      "cell_type": "code",
      "metadata": {
        "id": "s_BWHf8anJes"
      },
      "source": [
        "import tensorflow as tf \n",
        "import numpy as np\n",
        "import tarfile\n",
        "my_tar = tarfile.open('/content/OpenImages/food-101.tgz')\n",
        "my_tar.extractall('/content/drive/MyDrive/Food_Images') # specify which folder to extract to\n",
        "my_tar.close()"
      ],
      "execution_count": null,
      "outputs": []
    },
    {
      "cell_type": "code",
      "metadata": {
        "colab": {
          "base_uri": "https://localhost:8080/"
        },
        "id": "4jGd4qq7eShf",
        "outputId": "42cf2bae-fc11-41bc-c9a5-aef58d6bf9b1"
      },
      "source": [
        "import tensorflow as tf \n",
        "import numpy as np\n",
        "train_ds = tf.keras.preprocessing.image_dataset_from_directory('/content/drive/MyDrive/Food_Images/food-101/images',\n",
        "                                                    image_size = (224,224),\n",
        "                                                    validation_split = 0.7, subset = 'training', seed = 1234, batch_size = 64)\n",
        "test_ds = tf.keras.preprocessing.image_dataset_from_directory('/content/drive/MyDrive/Food_Images/food-101/images',\n",
        "                                                    image_size = (224,224),\n",
        "                                                    validation_split = 0.7, subset = 'validation', seed = 1234)"
      ],
      "execution_count": null,
      "outputs": [
        {
          "output_type": "stream",
          "text": [
            "Found 101000 files belonging to 101 classes.\n",
            "Using 30300 files for training.\n",
            "Found 101000 files belonging to 101 classes.\n",
            "Using 70700 files for validation.\n"
          ],
          "name": "stdout"
        }
      ]
    },
    {
      "cell_type": "code",
      "metadata": {
        "colab": {
          "base_uri": "https://localhost:8080/"
        },
        "id": "q7-zvislXxz1",
        "outputId": "0935ad43-94a3-4778-a66d-5648f2628163"
      },
      "source": [
        "IMG_size = 224\n",
        "IMG_shape = (IMG_size, IMG_size, 3)\n",
        "base_model  = tf.keras.applications.InceptionV3(input_shape=IMG_shape,\n",
        "                                                include_top = False, \n",
        "                                                weights = 'imagenet')\n",
        "base_model.trainable = False"
      ],
      "execution_count": null,
      "outputs": [
        {
          "output_type": "stream",
          "text": [
            "Downloading data from https://storage.googleapis.com/tensorflow/keras-applications/inception_v3/inception_v3_weights_tf_dim_ordering_tf_kernels_notop.h5\n",
            "87916544/87910968 [==============================] - 1s 0us/step\n"
          ],
          "name": "stdout"
        }
      ]
    },
    {
      "cell_type": "code",
      "metadata": {
        "id": "1d5xiu5fYyse"
      },
      "source": [
        "global_avg_layer = tf.keras.layers.GlobalAveragePooling2D()\n",
        "prediction = tf.keras.layers.Dense(101)"
      ],
      "execution_count": null,
      "outputs": []
    },
    {
      "cell_type": "code",
      "metadata": {
        "colab": {
          "base_uri": "https://localhost:8080/"
        },
        "id": "nyzURdH9Y5Wl",
        "outputId": "36857545-ce09-4bc3-ae1f-9c1a4be88d2b"
      },
      "source": [
        "model = tf.keras.models.Sequential([base_model, global_avg_layer, prediction])\n",
        "model.summary()"
      ],
      "execution_count": null,
      "outputs": [
        {
          "output_type": "stream",
          "text": [
            "Model: \"sequential\"\n",
            "_________________________________________________________________\n",
            "Layer (type)                 Output Shape              Param #   \n",
            "=================================================================\n",
            "inception_v3 (Functional)    (None, 5, 5, 2048)        21802784  \n",
            "_________________________________________________________________\n",
            "global_average_pooling2d (Gl (None, 2048)              0         \n",
            "_________________________________________________________________\n",
            "dense (Dense)                (None, 101)               206949    \n",
            "=================================================================\n",
            "Total params: 22,009,733\n",
            "Trainable params: 206,949\n",
            "Non-trainable params: 21,802,784\n",
            "_________________________________________________________________\n"
          ],
          "name": "stdout"
        }
      ]
    },
    {
      "cell_type": "code",
      "metadata": {
        "id": "Oxt3JevsZDjG"
      },
      "source": [
        "base_learning_rate =0.01\n",
        "model.compile(optimizer=tf.keras.optimizers.Adam(lr = base_learning_rate),\n",
        "              loss = tf.keras.losses.SparseCategoricalCrossentropy(from_logits = True),\n",
        "              metrics = ['accuracy'])"
      ],
      "execution_count": null,
      "outputs": []
    },
    {
      "cell_type": "code",
      "metadata": {
        "id": "wobFB846lZ1K"
      },
      "source": [
        "# Creating checkpoints\n",
        "import os\n",
        "# Directory where the checkpoints will be saved\n",
        "checkpoint_dir = '/content/drive/MyDrive/Food_Images/checkpoints'\n",
        "# Name of the checkpoint files\n",
        "checkpoint_prefix = os.path.join(checkpoint_dir, \"ckpt_{epoch}\")\n",
        "\n",
        "checkpoint_callback=tf.keras.callbacks.ModelCheckpoint(\n",
        "    filepath=checkpoint_prefix,\n",
        "    save_weights_only=True)"
      ],
      "execution_count": null,
      "outputs": []
    },
    {
      "cell_type": "code",
      "metadata": {
        "id": "y5DObITGHrFm"
      },
      "source": [
        "# Reloading the model\n",
        "model.load_weights(tf.train.latest_checkpoint(checkpoint_dir))\n",
        "model.build(tf.TensorShape([1, None]))"
      ],
      "execution_count": null,
      "outputs": []
    },
    {
      "cell_type": "code",
      "metadata": {
        "colab": {
          "base_uri": "https://localhost:8080/"
        },
        "id": "_L_ydg-nZIjt",
        "outputId": "1a1300c2-721d-49e3-e6cd-668660e7601d"
      },
      "source": [
        "model.fit(train_ds, epochs = 20, callbacks=[checkpoint_callback])"
      ],
      "execution_count": null,
      "outputs": [
        {
          "output_type": "stream",
          "text": [
            "Epoch 1/20\n",
            "947/947 [==============================] - 7213s 8s/step - loss: 21.5266 - accuracy: 0.0686\n",
            "Epoch 2/20\n",
            "947/947 [==============================] - 148s 156ms/step - loss: 19.8751 - accuracy: 0.0785\n",
            "Epoch 3/20\n",
            "947/947 [==============================] - 149s 157ms/step - loss: 18.7308 - accuracy: 0.0831\n",
            "Epoch 4/20\n",
            "947/947 [==============================] - 149s 157ms/step - loss: 18.5603 - accuracy: 0.0906\n",
            "Epoch 5/20\n",
            "947/947 [==============================] - 150s 157ms/step - loss: 17.8213 - accuracy: 0.0946\n",
            "Epoch 6/20\n",
            "947/947 [==============================] - 149s 157ms/step - loss: 17.4719 - accuracy: 0.0977\n",
            "Epoch 7/20\n",
            "947/947 [==============================] - 151s 159ms/step - loss: 17.4553 - accuracy: 0.1036\n",
            "Epoch 8/20\n",
            "947/947 [==============================] - 151s 158ms/step - loss: 17.2796 - accuracy: 0.1069\n",
            "Epoch 9/20\n",
            "947/947 [==============================] - 152s 160ms/step - loss: 16.8996 - accuracy: 0.1125\n",
            "Epoch 10/20\n",
            "947/947 [==============================] - 151s 159ms/step - loss: 16.6078 - accuracy: 0.1150\n",
            "Epoch 11/20\n",
            "947/947 [==============================] - 152s 160ms/step - loss: 16.8265 - accuracy: 0.1193\n",
            "Epoch 12/20\n",
            "947/947 [==============================] - 150s 157ms/step - loss: 16.4626 - accuracy: 0.1196\n",
            "Epoch 13/20\n",
            "947/947 [==============================] - 149s 156ms/step - loss: 16.7090 - accuracy: 0.1217\n",
            "Epoch 14/20\n",
            "947/947 [==============================] - 149s 157ms/step - loss: 16.2321 - accuracy: 0.1266\n",
            "Epoch 15/20\n",
            "947/947 [==============================] - 148s 156ms/step - loss: 16.1355 - accuracy: 0.1307\n",
            "Epoch 16/20\n",
            "947/947 [==============================] - 149s 157ms/step - loss: 15.9333 - accuracy: 0.1338\n",
            "Epoch 17/20\n",
            "947/947 [==============================] - 149s 157ms/step - loss: 16.0578 - accuracy: 0.1339\n",
            "Epoch 18/20\n",
            "947/947 [==============================] - 151s 159ms/step - loss: 16.0017 - accuracy: 0.1353\n",
            "Epoch 19/20\n",
            "947/947 [==============================] - 150s 158ms/step - loss: 15.8679 - accuracy: 0.1412\n",
            "Epoch 20/20\n",
            "947/947 [==============================] - 151s 159ms/step - loss: 15.6037 - accuracy: 0.1423\n"
          ],
          "name": "stdout"
        },
        {
          "output_type": "execute_result",
          "data": {
            "text/plain": [
              "<tensorflow.python.keras.callbacks.History at 0x7f3ee833c5c0>"
            ]
          },
          "metadata": {
            "tags": []
          },
          "execution_count": 20
        }
      ]
    },
    {
      "cell_type": "code",
      "metadata": {
        "colab": {
          "base_uri": "https://localhost:8080/"
        },
        "id": "_ODW8C2SoQq7",
        "outputId": "c7743423-b815-47d8-d192-acacc2e4acbf"
      },
      "source": [
        "history = model.fit(train_ds, epochs = 100, callbacks=[checkpoint_callback])"
      ],
      "execution_count": null,
      "outputs": [
        {
          "output_type": "stream",
          "text": [
            "Epoch 1/100\n",
            "947/947 [==============================] - 17807s 19s/step - loss: 15.2041 - accuracy: 0.1644\n",
            "Epoch 2/100\n",
            "947/947 [==============================] - 148s 156ms/step - loss: 15.3591 - accuracy: 0.1703\n",
            "Epoch 3/100\n",
            "947/947 [==============================] - 149s 156ms/step - loss: 15.0388 - accuracy: 0.1672\n",
            "Epoch 4/100\n",
            "947/947 [==============================] - 149s 157ms/step - loss: 15.1602 - accuracy: 0.1701\n",
            "Epoch 5/100\n",
            "947/947 [==============================] - 149s 157ms/step - loss: 15.0074 - accuracy: 0.1737\n",
            "Epoch 6/100\n",
            "947/947 [==============================] - 149s 156ms/step - loss: 15.0224 - accuracy: 0.1764\n",
            "Epoch 7/100\n",
            "947/947 [==============================] - 149s 157ms/step - loss: 15.6799 - accuracy: 0.1717\n",
            "Epoch 8/100\n",
            "947/947 [==============================] - 149s 156ms/step - loss: 15.1195 - accuracy: 0.1779\n",
            "Epoch 9/100\n",
            "947/947 [==============================] - 149s 157ms/step - loss: 15.1951 - accuracy: 0.1752\n",
            "Epoch 10/100\n",
            "947/947 [==============================] - 149s 156ms/step - loss: 14.9962 - accuracy: 0.1806\n",
            "Epoch 11/100\n",
            "947/947 [==============================] - 149s 157ms/step - loss: 15.3724 - accuracy: 0.1738\n",
            "Epoch 12/100\n",
            "947/947 [==============================] - 149s 157ms/step - loss: 15.0742 - accuracy: 0.1821\n",
            "Epoch 13/100\n",
            "947/947 [==============================] - 149s 157ms/step - loss: 15.5747 - accuracy: 0.1789\n",
            "Epoch 14/100\n",
            "947/947 [==============================] - 149s 157ms/step - loss: 15.1575 - accuracy: 0.1839\n",
            "Epoch 15/100\n",
            "947/947 [==============================] - 150s 157ms/step - loss: 14.9585 - accuracy: 0.1862\n",
            "Epoch 16/100\n",
            "947/947 [==============================] - 149s 157ms/step - loss: 14.9538 - accuracy: 0.1865\n",
            "Epoch 17/100\n",
            "947/947 [==============================] - 150s 158ms/step - loss: 14.7455 - accuracy: 0.1932\n",
            "Epoch 18/100\n",
            "947/947 [==============================] - 149s 157ms/step - loss: 15.2978 - accuracy: 0.1814\n",
            "Epoch 19/100\n",
            "947/947 [==============================] - 149s 157ms/step - loss: 14.8341 - accuracy: 0.1935\n",
            "Epoch 20/100\n",
            "947/947 [==============================] - 149s 156ms/step - loss: 14.9736 - accuracy: 0.1892\n",
            "Epoch 21/100\n",
            "947/947 [==============================] - 149s 157ms/step - loss: 14.9852 - accuracy: 0.1909\n",
            "Epoch 22/100\n",
            "947/947 [==============================] - 149s 156ms/step - loss: 15.4516 - accuracy: 0.1911\n",
            "Epoch 23/100\n",
            "947/947 [==============================] - 149s 156ms/step - loss: 14.8955 - accuracy: 0.1951\n",
            "Epoch 24/100\n",
            "947/947 [==============================] - 149s 157ms/step - loss: 15.1707 - accuracy: 0.1960\n",
            "Epoch 25/100\n",
            "947/947 [==============================] - 149s 156ms/step - loss: 14.7589 - accuracy: 0.1985\n",
            "Epoch 26/100\n",
            "947/947 [==============================] - 148s 156ms/step - loss: 14.3988 - accuracy: 0.1978\n",
            "Epoch 27/100\n",
            "947/947 [==============================] - 149s 156ms/step - loss: 14.8561 - accuracy: 0.1973\n",
            "Epoch 28/100\n",
            "947/947 [==============================] - 149s 156ms/step - loss: 14.8227 - accuracy: 0.1953\n",
            "Epoch 29/100\n",
            "947/947 [==============================] - 149s 156ms/step - loss: 14.6478 - accuracy: 0.2019\n",
            "Epoch 30/100\n",
            "947/947 [==============================] - 149s 157ms/step - loss: 14.5132 - accuracy: 0.2048\n",
            "Epoch 31/100\n",
            "947/947 [==============================] - 149s 156ms/step - loss: 14.7991 - accuracy: 0.2008\n",
            "Epoch 32/100\n",
            "947/947 [==============================] - 149s 156ms/step - loss: 14.9621 - accuracy: 0.1994\n",
            "Epoch 33/100\n",
            "947/947 [==============================] - 148s 156ms/step - loss: 14.6852 - accuracy: 0.2032\n",
            "Epoch 34/100\n",
            "947/947 [==============================] - 149s 156ms/step - loss: 14.6868 - accuracy: 0.2068\n",
            "Epoch 35/100\n",
            "947/947 [==============================] - 149s 157ms/step - loss: 15.2185 - accuracy: 0.1967\n",
            "Epoch 36/100\n",
            "947/947 [==============================] - 149s 156ms/step - loss: 14.3220 - accuracy: 0.2092\n",
            "Epoch 37/100\n",
            "947/947 [==============================] - 148s 156ms/step - loss: 14.3902 - accuracy: 0.2068\n",
            "Epoch 38/100\n",
            "947/947 [==============================] - 149s 156ms/step - loss: 14.5881 - accuracy: 0.2085\n",
            "Epoch 39/100\n",
            "947/947 [==============================] - 149s 156ms/step - loss: 14.5646 - accuracy: 0.2101\n",
            "Epoch 40/100\n",
            "947/947 [==============================] - 149s 157ms/step - loss: 14.8585 - accuracy: 0.2075\n",
            "Epoch 41/100\n",
            "947/947 [==============================] - 148s 156ms/step - loss: 14.8615 - accuracy: 0.2090\n",
            "Epoch 42/100\n",
            "947/947 [==============================] - 149s 156ms/step - loss: 14.8924 - accuracy: 0.2160\n",
            "Epoch 43/100\n",
            "947/947 [==============================] - 148s 156ms/step - loss: 14.4832 - accuracy: 0.2117\n",
            "Epoch 44/100\n",
            "947/947 [==============================] - 149s 156ms/step - loss: 14.8012 - accuracy: 0.2170\n",
            "Epoch 45/100\n",
            "947/947 [==============================] - 149s 156ms/step - loss: 14.4705 - accuracy: 0.2105\n",
            "Epoch 46/100\n",
            "947/947 [==============================] - 149s 157ms/step - loss: 14.8177 - accuracy: 0.2098\n",
            "Epoch 47/100\n",
            "947/947 [==============================] - 149s 156ms/step - loss: 14.3756 - accuracy: 0.2209\n",
            "Epoch 48/100\n",
            "947/947 [==============================] - 149s 156ms/step - loss: 14.0472 - accuracy: 0.2197\n",
            "Epoch 49/100\n",
            "947/947 [==============================] - 149s 156ms/step - loss: 14.5968 - accuracy: 0.2190\n",
            "Epoch 50/100\n",
            "947/947 [==============================] - 149s 157ms/step - loss: 14.6207 - accuracy: 0.2151\n",
            "Epoch 51/100\n",
            "947/947 [==============================] - 149s 156ms/step - loss: 14.6831 - accuracy: 0.2166\n",
            "Epoch 52/100\n",
            "947/947 [==============================] - 149s 156ms/step - loss: 14.7977 - accuracy: 0.2164\n",
            "Epoch 53/100\n",
            "947/947 [==============================] - 149s 156ms/step - loss: 14.1582 - accuracy: 0.2240\n",
            "Epoch 54/100\n",
            "947/947 [==============================] - 149s 157ms/step - loss: 14.6605 - accuracy: 0.2177\n",
            "Epoch 55/100\n",
            "947/947 [==============================] - 148s 155ms/step - loss: 14.8699 - accuracy: 0.2180\n",
            "Epoch 56/100\n",
            "947/947 [==============================] - 148s 155ms/step - loss: 14.2862 - accuracy: 0.2283\n",
            "Epoch 57/100\n",
            "947/947 [==============================] - 149s 156ms/step - loss: 14.4173 - accuracy: 0.2204\n",
            "Epoch 58/100\n",
            "947/947 [==============================] - 148s 155ms/step - loss: 14.1829 - accuracy: 0.2267\n",
            "Epoch 59/100\n",
            "947/947 [==============================] - 148s 155ms/step - loss: 14.4499 - accuracy: 0.2269\n",
            "Epoch 60/100\n",
            "947/947 [==============================] - 148s 156ms/step - loss: 14.1189 - accuracy: 0.2301\n",
            "Epoch 61/100\n",
            "947/947 [==============================] - 148s 156ms/step - loss: 14.8431 - accuracy: 0.2223\n",
            "Epoch 62/100\n",
            "947/947 [==============================] - 148s 155ms/step - loss: 14.6072 - accuracy: 0.2248\n",
            "Epoch 63/100\n",
            "947/947 [==============================] - 149s 156ms/step - loss: 13.9994 - accuracy: 0.2246\n",
            "Epoch 64/100\n",
            "947/947 [==============================] - 147s 155ms/step - loss: 14.3780 - accuracy: 0.2285\n",
            "Epoch 65/100\n",
            "947/947 [==============================] - 148s 155ms/step - loss: 14.1733 - accuracy: 0.2312\n",
            "Epoch 66/100\n",
            "947/947 [==============================] - 147s 155ms/step - loss: 14.8969 - accuracy: 0.2267\n",
            "Epoch 67/100\n",
            "947/947 [==============================] - 148s 155ms/step - loss: 14.4317 - accuracy: 0.2315\n",
            "Epoch 68/100\n",
            "947/947 [==============================] - 147s 155ms/step - loss: 14.1925 - accuracy: 0.2346\n",
            "Epoch 69/100\n",
            "947/947 [==============================] - 148s 155ms/step - loss: 14.6090 - accuracy: 0.2315\n",
            "Epoch 70/100\n",
            "947/947 [==============================] - 147s 154ms/step - loss: 14.2094 - accuracy: 0.2370\n",
            "Epoch 71/100\n",
            "947/947 [==============================] - 148s 156ms/step - loss: 14.1748 - accuracy: 0.2345\n",
            "Epoch 72/100\n",
            "947/947 [==============================] - 147s 155ms/step - loss: 14.4507 - accuracy: 0.2321\n",
            "Epoch 73/100\n",
            "947/947 [==============================] - 148s 156ms/step - loss: 14.4202 - accuracy: 0.2324\n",
            "Epoch 74/100\n",
            "947/947 [==============================] - 147s 155ms/step - loss: 14.2953 - accuracy: 0.2373\n",
            "Epoch 75/100\n",
            "947/947 [==============================] - 147s 155ms/step - loss: 14.0630 - accuracy: 0.2383\n",
            "Epoch 76/100\n",
            "947/947 [==============================] - 147s 155ms/step - loss: 14.1027 - accuracy: 0.2425\n",
            "Epoch 77/100\n",
            "947/947 [==============================] - 147s 155ms/step - loss: 14.3572 - accuracy: 0.2347\n",
            "Epoch 78/100\n",
            "947/947 [==============================] - 148s 155ms/step - loss: 14.4731 - accuracy: 0.2336\n",
            "Epoch 79/100\n",
            "947/947 [==============================] - 147s 155ms/step - loss: 14.1986 - accuracy: 0.2347\n",
            "Epoch 80/100\n",
            "947/947 [==============================] - 148s 156ms/step - loss: 14.1050 - accuracy: 0.2374\n",
            "Epoch 81/100\n",
            "947/947 [==============================] - 148s 155ms/step - loss: 14.5511 - accuracy: 0.2315\n",
            "Epoch 82/100\n",
            "947/947 [==============================] - 147s 155ms/step - loss: 14.0467 - accuracy: 0.2428\n",
            "Epoch 83/100\n",
            "947/947 [==============================] - 147s 155ms/step - loss: 14.2880 - accuracy: 0.2391\n",
            "Epoch 84/100\n",
            "947/947 [==============================] - 147s 155ms/step - loss: 14.3350 - accuracy: 0.2381\n",
            "Epoch 85/100\n",
            "947/947 [==============================] - 147s 155ms/step - loss: 14.0102 - accuracy: 0.2393\n",
            "Epoch 86/100\n",
            "947/947 [==============================] - 147s 155ms/step - loss: 13.8285 - accuracy: 0.2477\n",
            "Epoch 87/100\n",
            "947/947 [==============================] - 147s 155ms/step - loss: 14.3450 - accuracy: 0.2451\n",
            "Epoch 88/100\n",
            "947/947 [==============================] - 147s 155ms/step - loss: 13.9319 - accuracy: 0.2461\n",
            "Epoch 89/100\n",
            "947/947 [==============================] - 147s 155ms/step - loss: 13.8099 - accuracy: 0.2486\n",
            "Epoch 90/100\n",
            "947/947 [==============================] - 147s 155ms/step - loss: 14.0679 - accuracy: 0.2436\n",
            "Epoch 91/100\n",
            "947/947 [==============================] - 148s 155ms/step - loss: 13.9398 - accuracy: 0.2508\n",
            "Epoch 92/100\n",
            "947/947 [==============================] - 147s 155ms/step - loss: 14.0799 - accuracy: 0.2447\n",
            "Epoch 93/100\n",
            "947/947 [==============================] - 147s 155ms/step - loss: 14.3786 - accuracy: 0.2416\n",
            "Epoch 94/100\n",
            "947/947 [==============================] - 148s 155ms/step - loss: 14.5733 - accuracy: 0.2375\n",
            "Epoch 95/100\n",
            "947/947 [==============================] - 147s 155ms/step - loss: 13.9038 - accuracy: 0.2536\n",
            "Epoch 96/100\n",
            "947/947 [==============================] - 147s 155ms/step - loss: 13.8866 - accuracy: 0.2501\n",
            "Epoch 97/100\n",
            "947/947 [==============================] - 148s 155ms/step - loss: 13.9726 - accuracy: 0.2453\n",
            "Epoch 98/100\n",
            "947/947 [==============================] - 147s 155ms/step - loss: 14.0884 - accuracy: 0.2482\n",
            "Epoch 99/100\n",
            "947/947 [==============================] - 148s 155ms/step - loss: 13.8225 - accuracy: 0.2528\n",
            "Epoch 100/100\n",
            "947/947 [==============================] - 147s 155ms/step - loss: 14.7025 - accuracy: 0.2471\n"
          ],
          "name": "stdout"
        }
      ]
    }
  ]
}