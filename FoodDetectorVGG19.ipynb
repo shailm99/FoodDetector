{
  "nbformat": 4,
  "nbformat_minor": 0,
  "metadata": {
    "colab": {
      "name": "FoodDetectorVGG19.ipynb",
      "provenance": [],
      "collapsed_sections": [],
      "authorship_tag": "ABX9TyOyiSHDXXVgOD7HBxK7Z8Hh"
    },
    "kernelspec": {
      "name": "python3",
      "display_name": "Python 3"
    }
  },
  "cells": [
    {
      "cell_type": "code",
      "metadata": {
        "colab": {
          "base_uri": "https://localhost:8080/"
        },
        "id": "RtS5ApRCF1xh",
        "outputId": "fceb60d0-7d0e-4753-c782-fb18b339530a"
      },
      "source": [
        "from google.colab import drive\n",
        "drive.mount('/content/drive')"
      ],
      "execution_count": 1,
      "outputs": [
        {
          "output_type": "stream",
          "text": [
            "Mounted at /content/drive\n"
          ],
          "name": "stdout"
        }
      ]
    },
    {
      "cell_type": "code",
      "metadata": {
        "colab": {
          "base_uri": "https://localhost:8080/"
        },
        "id": "z4AFJhv-GJ5a",
        "outputId": "3184c6b0-d987-48de-f8f1-c5a9e878bb9d"
      },
      "source": [
        "import tensorflow as tf \n",
        "import numpy as np\n",
        "train_ds = tf.keras.preprocessing.image_dataset_from_directory('/content/drive/MyDrive/Food_Images/food-101/images',\n",
        "                                                    image_size = (224,224),\n",
        "                                                    validation_split = 0.7, subset = 'training', seed = 143, batch_size = 20)\n",
        "\n",
        "IMG_size = 224\n",
        "IMG_shape = (IMG_size, IMG_size, 3)\n",
        "base_model  = tf.keras.applications.VGG19(input_shape=IMG_shape,\n",
        "                                                include_top = False, \n",
        "                                                weights = 'imagenet')\n",
        "\n",
        "base_model.trainable = False\n",
        "global_avg_layer = tf.keras.layers.GlobalAveragePooling2D()\n",
        "prediction = tf.keras.layers.Dense(101)\n",
        "model = tf.keras.models.Sequential([base_model, global_avg_layer, prediction])\n",
        "base_learning_rate = 0.01\n",
        "model.compile(optimizer=tf.keras.optimizers.Adam(lr = base_learning_rate),\n",
        "              loss = tf.keras.losses.SparseCategoricalCrossentropy(from_logits = True),\n",
        "              metrics = ['accuracy'])\n",
        "\n",
        "# Creating checkpoints\n",
        "import os\n",
        "# Directory where the checkpoints will be saved\n",
        "checkpoint_dir = '/content/drive/MyDrive/Food_Images/vgg19_checkpoints'\n",
        "# Name of the checkpoint files\n",
        "checkpoint_prefix = os.path.join(checkpoint_dir, \"ckpt_{epoch}\")\n",
        "\n",
        "checkpoint_callback=tf.keras.callbacks.ModelCheckpoint(\n",
        "    filepath=checkpoint_prefix,\n",
        "    save_weights_only=True)\n",
        "\n",
        "#model.load_weights(tf.train.latest_checkpoint(checkpoint_dir))\n",
        "#model.build(tf.TensorShape([1, None]))\n",
        "\n",
        "history = model.fit(train_ds, epochs = 100, callbacks=[checkpoint_callback])"
      ],
      "execution_count": null,
      "outputs": [
        {
          "output_type": "stream",
          "text": [
            "Found 101000 files belonging to 101 classes.\n",
            "Using 30300 files for training.\n",
            "Epoch 1/100\n",
            "1515/1515 [==============================] - 11096s 7s/step - loss: 19.0326 - accuracy: 0.1799\n",
            "Epoch 2/100\n",
            "1515/1515 [==============================] - 266s 175ms/step - loss: 17.6563 - accuracy: 0.3364\n",
            "Epoch 3/100\n",
            "1515/1515 [==============================] - 265s 175ms/step - loss: 17.6988 - accuracy: 0.3715\n",
            "Epoch 4/100\n",
            "1515/1515 [==============================] - 264s 174ms/step - loss: 17.6751 - accuracy: 0.4009\n",
            "Epoch 5/100\n",
            "1515/1515 [==============================] - 265s 175ms/step - loss: 17.6013 - accuracy: 0.4185\n",
            "Epoch 6/100\n",
            "1515/1515 [==============================] - 265s 175ms/step - loss: 17.4642 - accuracy: 0.4345\n",
            "Epoch 7/100\n",
            "1515/1515 [==============================] - 265s 174ms/step - loss: 17.5258 - accuracy: 0.4424\n",
            "Epoch 8/100\n",
            "1515/1515 [==============================] - 265s 175ms/step - loss: 17.3502 - accuracy: 0.4560\n",
            "Epoch 9/100\n",
            "1515/1515 [==============================] - 266s 176ms/step - loss: 17.3311 - accuracy: 0.4659\n",
            "Epoch 10/100\n",
            "1515/1515 [==============================] - 265s 175ms/step - loss: 17.2999 - accuracy: 0.4623\n",
            "Epoch 11/100\n",
            "1515/1515 [==============================] - 264s 174ms/step - loss: 17.2611 - accuracy: 0.4737\n",
            "Epoch 12/100\n",
            "1515/1515 [==============================] - 264s 174ms/step - loss: 16.9101 - accuracy: 0.4897\n",
            "Epoch 13/100\n",
            "1515/1515 [==============================] - 264s 174ms/step - loss: 17.0441 - accuracy: 0.4870\n",
            "Epoch 14/100\n",
            "1515/1515 [==============================] - 265s 174ms/step - loss: 17.0096 - accuracy: 0.4899\n",
            "Epoch 15/100\n",
            "1515/1515 [==============================] - 265s 175ms/step - loss: 17.2971 - accuracy: 0.4927\n",
            "Epoch 16/100\n",
            "1515/1515 [==============================] - 265s 175ms/step - loss: 17.0442 - accuracy: 0.4949\n",
            "Epoch 17/100\n",
            "1515/1515 [==============================] - 264s 174ms/step - loss: 17.3831 - accuracy: 0.5010\n",
            "Epoch 18/100\n",
            "1515/1515 [==============================] - 263s 173ms/step - loss: 16.8481 - accuracy: 0.5134\n",
            "Epoch 19/100\n",
            "1515/1515 [==============================] - 263s 173ms/step - loss: 17.1047 - accuracy: 0.5064\n",
            "Epoch 20/100\n",
            "1515/1515 [==============================] - 265s 175ms/step - loss: 16.9912 - accuracy: 0.5117\n",
            "Epoch 21/100\n",
            "1515/1515 [==============================] - 264s 174ms/step - loss: 16.7302 - accuracy: 0.5182\n",
            "Epoch 22/100\n",
            "1515/1515 [==============================] - 265s 174ms/step - loss: 16.6894 - accuracy: 0.5239\n",
            "Epoch 23/100\n",
            "1515/1515 [==============================] - 264s 174ms/step - loss: 16.8666 - accuracy: 0.5228\n",
            "Epoch 24/100\n",
            "1515/1515 [==============================] - 263s 173ms/step - loss: 16.7210 - accuracy: 0.5281\n",
            "Epoch 25/100\n",
            "1515/1515 [==============================] - 264s 174ms/step - loss: 16.9829 - accuracy: 0.5300\n",
            "Epoch 26/100\n",
            "1515/1515 [==============================] - 264s 174ms/step - loss: 16.5355 - accuracy: 0.5317\n",
            "Epoch 27/100\n",
            "1515/1515 [==============================] - 263s 173ms/step - loss: 16.7257 - accuracy: 0.5338\n",
            "Epoch 28/100\n",
            "1515/1515 [==============================] - 264s 174ms/step - loss: 16.8084 - accuracy: 0.5325\n",
            "Epoch 29/100\n",
            "1515/1515 [==============================] - 263s 174ms/step - loss: 16.7223 - accuracy: 0.5368\n",
            "Epoch 30/100\n",
            "1515/1515 [==============================] - 264s 174ms/step - loss: 16.6744 - accuracy: 0.5388\n",
            "Epoch 31/100\n",
            "1515/1515 [==============================] - 263s 174ms/step - loss: 16.8718 - accuracy: 0.5404\n",
            "Epoch 32/100\n",
            "1515/1515 [==============================] - 263s 173ms/step - loss: 16.8071 - accuracy: 0.5400\n",
            "Epoch 33/100\n",
            "1515/1515 [==============================] - 263s 173ms/step - loss: 16.7787 - accuracy: 0.5402\n",
            "Epoch 34/100\n",
            "1515/1515 [==============================] - 264s 174ms/step - loss: 16.6383 - accuracy: 0.5451\n",
            "Epoch 35/100\n",
            "1515/1515 [==============================] - 263s 173ms/step - loss: 16.5752 - accuracy: 0.5485\n",
            "Epoch 36/100\n",
            "1515/1515 [==============================] - 263s 173ms/step - loss: 16.5623 - accuracy: 0.5489\n",
            "Epoch 37/100\n",
            "1515/1515 [==============================] - 262s 173ms/step - loss: 16.6012 - accuracy: 0.5503\n",
            "Epoch 38/100\n",
            "1515/1515 [==============================] - 263s 173ms/step - loss: 16.5047 - accuracy: 0.5527\n",
            "Epoch 39/100\n",
            "1515/1515 [==============================] - 264s 174ms/step - loss: 16.6409 - accuracy: 0.5495\n",
            "Epoch 40/100\n",
            "1515/1515 [==============================] - 263s 174ms/step - loss: 16.8949 - accuracy: 0.5438\n",
            "Epoch 41/100\n",
            "1515/1515 [==============================] - 264s 174ms/step - loss: 16.7303 - accuracy: 0.5506\n",
            "Epoch 42/100\n",
            "1515/1515 [==============================] - 264s 174ms/step - loss: 16.5615 - accuracy: 0.5540\n",
            "Epoch 43/100\n",
            "1515/1515 [==============================] - 264s 174ms/step - loss: 16.6043 - accuracy: 0.5521\n",
            "Epoch 44/100\n",
            "1515/1515 [==============================] - 264s 174ms/step - loss: 16.5069 - accuracy: 0.5553\n",
            "Epoch 45/100\n",
            "1515/1515 [==============================] - 263s 174ms/step - loss: 16.3511 - accuracy: 0.5578\n",
            "Epoch 46/100\n",
            "1515/1515 [==============================] - 266s 176ms/step - loss: 16.6567 - accuracy: 0.5536\n",
            "Epoch 47/100\n",
            "1515/1515 [==============================] - 269s 177ms/step - loss: 16.4594 - accuracy: 0.5595\n",
            "Epoch 48/100\n",
            "1515/1515 [==============================] - 272s 179ms/step - loss: 16.2836 - accuracy: 0.5614\n",
            "Epoch 49/100\n",
            "1515/1515 [==============================] - 271s 179ms/step - loss: 16.6967 - accuracy: 0.5582\n",
            "Epoch 50/100\n",
            "1515/1515 [==============================] - 272s 179ms/step - loss: 16.6520 - accuracy: 0.5624\n",
            "Epoch 51/100\n",
            "1515/1515 [==============================] - 271s 178ms/step - loss: 16.2632 - accuracy: 0.5662\n",
            "Epoch 52/100\n",
            "1515/1515 [==============================] - 266s 175ms/step - loss: 16.3159 - accuracy: 0.5709\n",
            "Epoch 53/100\n",
            "1515/1515 [==============================] - 265s 175ms/step - loss: 16.7308 - accuracy: 0.5654\n",
            "Epoch 54/100\n",
            "1515/1515 [==============================] - 265s 174ms/step - loss: 16.6506 - accuracy: 0.5649\n",
            "Epoch 55/100\n",
            "1515/1515 [==============================] - 265s 175ms/step - loss: 16.5644 - accuracy: 0.5692\n",
            "Epoch 56/100\n",
            "1515/1515 [==============================] - 265s 174ms/step - loss: 16.4586 - accuracy: 0.5658\n",
            "Epoch 57/100\n",
            "1515/1515 [==============================] - 264s 174ms/step - loss: 16.5677 - accuracy: 0.5691\n",
            "Epoch 58/100\n",
            "1515/1515 [==============================] - 265s 175ms/step - loss: 16.5773 - accuracy: 0.5732\n",
            "Epoch 59/100\n",
            "1515/1515 [==============================] - 266s 175ms/step - loss: 16.7142 - accuracy: 0.5688\n",
            "Epoch 60/100\n",
            "1515/1515 [==============================] - 268s 177ms/step - loss: 16.6341 - accuracy: 0.5694\n",
            "Epoch 61/100\n",
            "1515/1515 [==============================] - 266s 175ms/step - loss: 16.4794 - accuracy: 0.5687\n",
            "Epoch 62/100\n",
            "1515/1515 [==============================] - 265s 175ms/step - loss: 16.2374 - accuracy: 0.5760\n",
            "Epoch 63/100\n",
            "1515/1515 [==============================] - 263s 173ms/step - loss: 16.4195 - accuracy: 0.5726\n",
            "Epoch 64/100\n",
            "1515/1515 [==============================] - 264s 174ms/step - loss: 16.2526 - accuracy: 0.5738\n",
            "Epoch 65/100\n",
            "1515/1515 [==============================] - 265s 175ms/step - loss: 16.4533 - accuracy: 0.5720\n",
            "Epoch 66/100\n",
            "1515/1515 [==============================] - 267s 176ms/step - loss: 16.4288 - accuracy: 0.5795\n",
            "Epoch 67/100\n",
            "1515/1515 [==============================] - 266s 175ms/step - loss: 16.4269 - accuracy: 0.5797\n",
            "Epoch 68/100\n",
            "1515/1515 [==============================] - 266s 175ms/step - loss: 16.2258 - accuracy: 0.5809\n",
            "Epoch 69/100\n",
            "1515/1515 [==============================] - 265s 175ms/step - loss: 16.4982 - accuracy: 0.5767\n",
            "Epoch 70/100\n",
            "1515/1515 [==============================] - 265s 174ms/step - loss: 16.2184 - accuracy: 0.5777\n",
            "Epoch 71/100\n",
            "1515/1515 [==============================] - 266s 175ms/step - loss: 16.5797 - accuracy: 0.5727\n",
            "Epoch 72/100\n",
            "1515/1515 [==============================] - 269s 177ms/step - loss: 16.6769 - accuracy: 0.5729\n",
            "Epoch 73/100\n",
            "1515/1515 [==============================] - 269s 177ms/step - loss: 16.2414 - accuracy: 0.5789\n",
            "Epoch 74/100\n",
            "1515/1515 [==============================] - 268s 177ms/step - loss: 16.5116 - accuracy: 0.5791\n",
            "Epoch 75/100\n",
            "1515/1515 [==============================] - 268s 177ms/step - loss: 16.5051 - accuracy: 0.5777\n",
            "Epoch 76/100\n",
            "1515/1515 [==============================] - 269s 177ms/step - loss: 16.3011 - accuracy: 0.5828\n",
            "Epoch 77/100\n",
            "1515/1515 [==============================] - 270s 178ms/step - loss: 16.3884 - accuracy: 0.5759\n",
            "Epoch 78/100\n",
            "1515/1515 [==============================] - 273s 180ms/step - loss: 16.3423 - accuracy: 0.5825\n",
            "Epoch 79/100\n",
            "1515/1515 [==============================] - 270s 178ms/step - loss: 16.2649 - accuracy: 0.5838\n",
            "Epoch 80/100\n",
            "1515/1515 [==============================] - 271s 179ms/step - loss: 16.3295 - accuracy: 0.5854\n",
            "Epoch 81/100\n",
            "1515/1515 [==============================] - 268s 176ms/step - loss: 16.3799 - accuracy: 0.5868\n",
            "Epoch 82/100\n",
            "1515/1515 [==============================] - 270s 178ms/step - loss: 16.4243 - accuracy: 0.5819\n",
            "Epoch 83/100\n",
            "1515/1515 [==============================] - 269s 177ms/step - loss: 16.4172 - accuracy: 0.5874\n",
            "Epoch 84/100\n",
            "1515/1515 [==============================] - 267s 176ms/step - loss: 16.4012 - accuracy: 0.5868\n",
            "Epoch 85/100\n",
            "1515/1515 [==============================] - 266s 175ms/step - loss: 16.4176 - accuracy: 0.5876\n",
            "Epoch 86/100\n",
            "1515/1515 [==============================] - 266s 175ms/step - loss: 16.5031 - accuracy: 0.5843\n",
            "Epoch 87/100\n",
            "1515/1515 [==============================] - 266s 175ms/step - loss: 16.3358 - accuracy: 0.5894\n",
            "Epoch 88/100\n",
            "1515/1515 [==============================] - 269s 177ms/step - loss: 16.3085 - accuracy: 0.5825\n",
            "Epoch 89/100\n",
            "1515/1515 [==============================] - 268s 177ms/step - loss: 16.2113 - accuracy: 0.5885\n",
            "Epoch 90/100\n",
            "1515/1515 [==============================] - 266s 175ms/step - loss: 16.0734 - accuracy: 0.5905\n",
            "Epoch 91/100\n",
            "1515/1515 [==============================] - 266s 175ms/step - loss: 16.4945 - accuracy: 0.5897\n",
            "Epoch 92/100\n",
            "1515/1515 [==============================] - 266s 175ms/step - loss: 16.2997 - accuracy: 0.5876\n",
            "Epoch 93/100\n",
            "1515/1515 [==============================] - 265s 175ms/step - loss: 16.0009 - accuracy: 0.5934\n",
            "Epoch 94/100\n",
            " 763/1515 [==============>...............] - ETA: 2:11 - loss: 16.3070 - accuracy: 0.5932"
          ],
          "name": "stdout"
        }
      ]
    },
    {
      "cell_type": "code",
      "metadata": {
        "colab": {
          "base_uri": "https://localhost:8080/"
        },
        "id": "bL5QDm4nlIuw",
        "outputId": "bf2c2dcf-2881-4a77-fea2-df09c375ede0"
      },
      "source": [
        "IMG_size = 224\n",
        "IMG_shape = (IMG_size, IMG_size, 3)\n",
        "base_model  = tf.keras.applications.VGG19(input_shape=IMG_shape,\n",
        "                                                include_top = False, \n",
        "                                                weights = 'imagenet')\n",
        "\n",
        "base_model.trainable = False\n",
        "global_avg_layer = tf.keras.layers.GlobalAveragePooling2D()\n",
        "prediction = tf.keras.layers.Dense(101)\n",
        "model = tf.keras.models.Sequential([base_model, global_avg_layer, prediction])\n",
        "base_learning_rate = 0.01\n",
        "model.compile(optimizer=tf.keras.optimizers.Adam(lr = base_learning_rate),\n",
        "              loss = tf.keras.losses.SparseCategoricalCrossentropy(from_logits = True),\n",
        "              metrics = ['accuracy'])\n",
        "checkpoint_dir = '/content/drive/MyDrive/Food_Images/vgg19_checkpoints'\n",
        "\n",
        "# Reload the model\n",
        "model.load_weights(tf.train.latest_checkpoint(checkpoint_dir))\n",
        "model.build(tf.TensorShape([1, None]))\n",
        "\n",
        "# Train again\n",
        "history = model.fit(train_ds, epochs = 100, callbacks=[checkpoint_callback])"
      ],
      "execution_count": null,
      "outputs": [
        {
          "output_type": "stream",
          "text": [
            "Found 101000 files belonging to 101 classes.\n",
            "Using 30300 files for training.\n",
            "Epoch 1/100\n",
            "2020/2020 [==============================] - 10667s 5s/step - loss: 68.9509 - accuracy: 0.4126\n",
            "Epoch 2/100\n",
            "2020/2020 [==============================] - 226s 112ms/step - loss: 53.1247 - accuracy: 0.4646\n",
            "Epoch 3/100\n",
            "2020/2020 [==============================] - 225s 111ms/step - loss: 46.4708 - accuracy: 0.4849\n",
            "Epoch 4/100\n",
            "2020/2020 [==============================] - 225s 111ms/step - loss: 41.6679 - accuracy: 0.4987\n",
            "Epoch 5/100\n",
            "2020/2020 [==============================] - 226s 111ms/step - loss: 38.1203 - accuracy: 0.5096\n",
            "Epoch 6/100\n",
            "2020/2020 [==============================] - 226s 112ms/step - loss: 35.5828 - accuracy: 0.5175\n",
            "Epoch 7/100\n",
            "2020/2020 [==============================] - 227s 112ms/step - loss: 32.8696 - accuracy: 0.5234\n",
            "Epoch 8/100\n",
            "2020/2020 [==============================] - 227s 112ms/step - loss: 31.4894 - accuracy: 0.5285\n",
            "Epoch 9/100\n",
            "2020/2020 [==============================] - 227s 112ms/step - loss: 29.7266 - accuracy: 0.5346\n",
            "Epoch 10/100\n",
            "2020/2020 [==============================] - 227s 112ms/step - loss: 28.6642 - accuracy: 0.5383\n",
            "Epoch 11/100\n",
            "2020/2020 [==============================] - 228s 113ms/step - loss: 27.7203 - accuracy: 0.5434\n",
            "Epoch 12/100\n",
            "2020/2020 [==============================] - 228s 113ms/step - loss: 26.3522 - accuracy: 0.5478\n",
            "Epoch 13/100\n",
            "2020/2020 [==============================] - 228s 113ms/step - loss: 25.6251 - accuracy: 0.5522\n",
            "Epoch 14/100\n",
            "2020/2020 [==============================] - 226s 112ms/step - loss: 25.0310 - accuracy: 0.5524\n",
            "Epoch 15/100\n",
            "2020/2020 [==============================] - 227s 112ms/step - loss: 24.0506 - accuracy: 0.5566\n",
            "Epoch 16/100\n",
            "2020/2020 [==============================] - 226s 112ms/step - loss: 24.1349 - accuracy: 0.5553\n",
            "Epoch 17/100\n",
            "2020/2020 [==============================] - 227s 112ms/step - loss: 23.3717 - accuracy: 0.5618\n",
            "Epoch 18/100\n",
            "2020/2020 [==============================] - 227s 112ms/step - loss: 22.9298 - accuracy: 0.5664\n",
            "Epoch 19/100\n",
            "2020/2020 [==============================] - 227s 112ms/step - loss: 22.7251 - accuracy: 0.5618\n",
            "Epoch 20/100\n",
            "2020/2020 [==============================] - 229s 113ms/step - loss: 22.3061 - accuracy: 0.5659\n",
            "Epoch 21/100\n",
            "2020/2020 [==============================] - 229s 113ms/step - loss: 22.0255 - accuracy: 0.5712\n",
            "Epoch 22/100\n",
            "2020/2020 [==============================] - 228s 113ms/step - loss: 21.4958 - accuracy: 0.5677\n",
            "Epoch 23/100\n",
            "2020/2020 [==============================] - 227s 112ms/step - loss: 21.4729 - accuracy: 0.5722\n",
            "Epoch 24/100\n",
            "2020/2020 [==============================] - 227s 112ms/step - loss: 21.0425 - accuracy: 0.5792\n",
            "Epoch 25/100\n",
            "2020/2020 [==============================] - 227s 112ms/step - loss: 21.3007 - accuracy: 0.5757\n",
            "Epoch 26/100\n",
            "2020/2020 [==============================] - 227s 112ms/step - loss: 20.6220 - accuracy: 0.5696\n",
            "Epoch 27/100\n",
            "2020/2020 [==============================] - 227s 112ms/step - loss: 20.7521 - accuracy: 0.5746\n",
            "Epoch 28/100\n",
            "2020/2020 [==============================] - 227s 112ms/step - loss: 20.6451 - accuracy: 0.5782\n",
            "Epoch 29/100\n",
            "2020/2020 [==============================] - 227s 112ms/step - loss: 20.3979 - accuracy: 0.5840\n",
            "Epoch 30/100\n",
            "2020/2020 [==============================] - 226s 112ms/step - loss: 20.1364 - accuracy: 0.5852\n",
            "Epoch 31/100\n",
            "2020/2020 [==============================] - 227s 112ms/step - loss: 20.1442 - accuracy: 0.5800\n",
            "Epoch 32/100\n",
            "2020/2020 [==============================] - 227s 112ms/step - loss: 20.1378 - accuracy: 0.5782\n",
            "Epoch 33/100\n",
            "2020/2020 [==============================] - 227s 112ms/step - loss: 20.0320 - accuracy: 0.5811\n",
            "Epoch 34/100\n",
            "2020/2020 [==============================] - 227s 112ms/step - loss: 19.9434 - accuracy: 0.5846\n",
            "Epoch 35/100\n",
            "2020/2020 [==============================] - 227s 112ms/step - loss: 19.6442 - accuracy: 0.5862\n",
            "Epoch 36/100\n",
            "2020/2020 [==============================] - 226s 112ms/step - loss: 19.8266 - accuracy: 0.5885\n",
            "Epoch 37/100\n",
            "2020/2020 [==============================] - 227s 112ms/step - loss: 19.7969 - accuracy: 0.5834\n",
            "Epoch 38/100\n",
            "2020/2020 [==============================] - 227s 112ms/step - loss: 19.5501 - accuracy: 0.5862\n",
            "Epoch 39/100\n",
            "2020/2020 [==============================] - 227s 112ms/step - loss: 19.6186 - accuracy: 0.5889\n",
            "Epoch 40/100\n",
            "2020/2020 [==============================] - 227s 112ms/step - loss: 19.3671 - accuracy: 0.5892\n",
            "Epoch 41/100\n",
            "2020/2020 [==============================] - 226s 112ms/step - loss: 19.2873 - accuracy: 0.5893\n",
            "Epoch 42/100\n",
            "2020/2020 [==============================] - 226s 112ms/step - loss: 19.3492 - accuracy: 0.5883\n",
            "Epoch 43/100\n",
            "2020/2020 [==============================] - 226s 112ms/step - loss: 19.2682 - accuracy: 0.5895\n",
            "Epoch 44/100\n",
            "2020/2020 [==============================] - 226s 112ms/step - loss: 19.2401 - accuracy: 0.5877\n",
            "Epoch 45/100\n",
            "2020/2020 [==============================] - 226s 112ms/step - loss: 19.1112 - accuracy: 0.5909\n",
            "Epoch 46/100\n",
            "2020/2020 [==============================] - 226s 112ms/step - loss: 19.1132 - accuracy: 0.5949\n",
            "Epoch 47/100\n",
            "2020/2020 [==============================] - 226s 112ms/step - loss: 19.2309 - accuracy: 0.5904\n",
            "Epoch 48/100\n",
            "2020/2020 [==============================] - 226s 112ms/step - loss: 19.1169 - accuracy: 0.5928\n",
            "Epoch 49/100\n",
            "2020/2020 [==============================] - 225s 111ms/step - loss: 19.0774 - accuracy: 0.5929\n",
            "Epoch 50/100\n",
            "2020/2020 [==============================] - 226s 112ms/step - loss: 19.2270 - accuracy: 0.5885\n",
            "Epoch 51/100\n",
            "2020/2020 [==============================] - 224s 111ms/step - loss: 19.1366 - accuracy: 0.5950\n",
            "Epoch 52/100\n",
            "2020/2020 [==============================] - 225s 111ms/step - loss: 19.0289 - accuracy: 0.5955\n",
            "Epoch 53/100\n",
            "2020/2020 [==============================] - 225s 111ms/step - loss: 18.8561 - accuracy: 0.6010\n",
            "Epoch 54/100\n",
            "2020/2020 [==============================] - 226s 112ms/step - loss: 18.9407 - accuracy: 0.5948\n",
            "Epoch 55/100\n",
            "2020/2020 [==============================] - 226s 112ms/step - loss: 18.6682 - accuracy: 0.5963\n",
            "Epoch 56/100\n",
            "2020/2020 [==============================] - 227s 112ms/step - loss: 18.8529 - accuracy: 0.5964\n",
            "Epoch 57/100\n",
            "2020/2020 [==============================] - 227s 112ms/step - loss: 18.8176 - accuracy: 0.6004\n",
            "Epoch 58/100\n",
            "2020/2020 [==============================] - 227s 112ms/step - loss: 18.7654 - accuracy: 0.6024\n",
            "Epoch 59/100\n",
            "2020/2020 [==============================] - 226s 112ms/step - loss: 18.7898 - accuracy: 0.6001\n",
            "Epoch 60/100\n",
            "2020/2020 [==============================] - 227s 112ms/step - loss: 18.7060 - accuracy: 0.5986\n",
            "Epoch 61/100\n",
            "2020/2020 [==============================] - 227s 112ms/step - loss: 18.9543 - accuracy: 0.5989\n",
            "Epoch 62/100\n",
            "2020/2020 [==============================] - 226s 112ms/step - loss: 18.8123 - accuracy: 0.6014\n",
            "Epoch 63/100\n",
            "2020/2020 [==============================] - 227s 112ms/step - loss: 18.8009 - accuracy: 0.6006\n",
            "Epoch 64/100\n",
            "2020/2020 [==============================] - 227s 112ms/step - loss: 18.6095 - accuracy: 0.6023\n",
            "Epoch 65/100\n",
            "2020/2020 [==============================] - 228s 112ms/step - loss: 18.4675 - accuracy: 0.6051\n",
            "Epoch 66/100\n",
            "2020/2020 [==============================] - 227s 112ms/step - loss: 18.5804 - accuracy: 0.6007\n",
            "Epoch 67/100\n",
            "2020/2020 [==============================] - 227s 112ms/step - loss: 18.6961 - accuracy: 0.6044\n",
            "Epoch 68/100\n",
            "2020/2020 [==============================] - 227s 112ms/step - loss: 18.7235 - accuracy: 0.5980\n",
            "Epoch 69/100\n",
            "2020/2020 [==============================] - 228s 113ms/step - loss: 18.5701 - accuracy: 0.6110\n",
            "Epoch 70/100\n",
            "2020/2020 [==============================] - 229s 113ms/step - loss: 18.3984 - accuracy: 0.6084\n",
            "Epoch 71/100\n",
            "2020/2020 [==============================] - 228s 113ms/step - loss: 18.7567 - accuracy: 0.6056\n",
            "Epoch 72/100\n",
            "2020/2020 [==============================] - 227s 112ms/step - loss: 18.6626 - accuracy: 0.6019\n",
            "Epoch 73/100\n",
            "2020/2020 [==============================] - 226s 112ms/step - loss: 18.3759 - accuracy: 0.6086\n",
            "Epoch 74/100\n",
            "2020/2020 [==============================] - 226s 112ms/step - loss: 18.6285 - accuracy: 0.6036\n",
            "Epoch 75/100\n",
            "2020/2020 [==============================] - 225s 111ms/step - loss: 18.5522 - accuracy: 0.6037\n",
            "Epoch 76/100\n",
            "2020/2020 [==============================] - 225s 111ms/step - loss: 18.3962 - accuracy: 0.6077\n",
            "Epoch 77/100\n",
            "2020/2020 [==============================] - 224s 111ms/step - loss: 18.4363 - accuracy: 0.6041\n",
            "Epoch 78/100\n",
            "2020/2020 [==============================] - 226s 112ms/step - loss: 18.4249 - accuracy: 0.6093\n",
            "Epoch 79/100\n",
            "2020/2020 [==============================] - 225s 111ms/step - loss: 18.4133 - accuracy: 0.6093\n",
            "Epoch 80/100\n",
            "2020/2020 [==============================] - 225s 111ms/step - loss: 18.4394 - accuracy: 0.6084\n",
            "Epoch 81/100\n",
            "2020/2020 [==============================] - 225s 111ms/step - loss: 18.4886 - accuracy: 0.6059\n",
            "Epoch 82/100\n",
            "2020/2020 [==============================] - 225s 111ms/step - loss: 18.3067 - accuracy: 0.6121\n",
            "Epoch 83/100\n",
            "2020/2020 [==============================] - 224s 111ms/step - loss: 18.5253 - accuracy: 0.6053\n",
            "Epoch 84/100\n",
            "2020/2020 [==============================] - 224s 111ms/step - loss: 18.6939 - accuracy: 0.6070\n",
            "Epoch 85/100\n",
            "2020/2020 [==============================] - 224s 111ms/step - loss: 18.2952 - accuracy: 0.6146\n",
            "Epoch 86/100\n",
            "2020/2020 [==============================] - 224s 111ms/step - loss: 18.3871 - accuracy: 0.6084\n",
            "Epoch 87/100\n",
            "2020/2020 [==============================] - 223s 110ms/step - loss: 18.5435 - accuracy: 0.6076\n",
            "Epoch 88/100\n",
            "2020/2020 [==============================] - 224s 111ms/step - loss: 18.2915 - accuracy: 0.6128\n",
            "Epoch 89/100\n",
            "2020/2020 [==============================] - 224s 111ms/step - loss: 18.4643 - accuracy: 0.6125\n",
            "Epoch 90/100\n",
            "2020/2020 [==============================] - 223s 110ms/step - loss: 18.2634 - accuracy: 0.6146\n",
            "Epoch 91/100\n",
            "2020/2020 [==============================] - 223s 110ms/step - loss: 18.2561 - accuracy: 0.6137\n",
            "Epoch 92/100\n",
            "2020/2020 [==============================] - 222s 110ms/step - loss: 18.3395 - accuracy: 0.6124\n",
            "Epoch 93/100\n",
            "2020/2020 [==============================] - 222s 110ms/step - loss: 18.3737 - accuracy: 0.6145\n",
            "Epoch 94/100\n",
            "2020/2020 [==============================] - 222s 110ms/step - loss: 18.2793 - accuracy: 0.6161\n",
            "Epoch 95/100\n",
            "2020/2020 [==============================] - 221s 109ms/step - loss: 18.3769 - accuracy: 0.6092\n",
            "Epoch 96/100\n",
            "2020/2020 [==============================] - 222s 110ms/step - loss: 18.2423 - accuracy: 0.6185\n",
            "Epoch 97/100\n",
            "2020/2020 [==============================] - 222s 110ms/step - loss: 18.4098 - accuracy: 0.6105\n",
            "Epoch 98/100\n",
            "2020/2020 [==============================] - 223s 110ms/step - loss: 18.4330 - accuracy: 0.6163\n",
            "Epoch 99/100\n",
            "2020/2020 [==============================] - 223s 110ms/step - loss: 18.6348 - accuracy: 0.6105\n",
            "Epoch 100/100\n",
            "2020/2020 [==============================] - 223s 110ms/step - loss: 18.4189 - accuracy: 0.6133\n"
          ],
          "name": "stdout"
        }
      ]
    },
    {
      "cell_type": "code",
      "metadata": {
        "id": "3Zpd7YeJruoX"
      },
      "source": [
        "test_ds = tf.keras.preprocessing.image_dataset_from_directory('/content/drive/MyDrive/Food_Images/food-101/images',\n",
        "                                                    image_size = (224,224),\n",
        "                                                    validation_split = 0.01, subset = 'validation', seed = 123, batch_size = 20)"
      ],
      "execution_count": null,
      "outputs": []
    },
    {
      "cell_type": "code",
      "metadata": {
        "id": "TnU21pfq0jeS"
      },
      "source": [
        "labels = open('/content/drive/MyDrive/Food_Images/food-101/labels.txt')\n",
        "classes = labels.read()\n",
        "classes = classes.split(sep = '\\n')\n",
        "classes = classes[:-1]\n",
        "labels.close()"
      ],
      "execution_count": null,
      "outputs": []
    },
    {
      "cell_type": "code",
      "metadata": {
        "id": "K7pq87OG4fsk"
      },
      "source": [
        "labels = open('/content/drive/MyDrive/Food_Images/food-101/classes.txt')\n",
        "folders = labels.read()\n",
        "folders = folders.split(sep = '\\n')\n",
        "labels.close()\n",
        "folders = folders[:-1]"
      ],
      "execution_count": 6,
      "outputs": []
    },
    {
      "cell_type": "code",
      "metadata": {
        "id": "QPl1zZPj3LWH"
      },
      "source": [
        "def make_prediction(path, model = model):\n",
        "  image = tf.keras.preprocessing.image.load_img(path, target_size=(224,224, 3))\n",
        "  image = tf.keras.preprocessing.image.img_to_array(image)\n",
        "  img_array = tf.expand_dims(image, 0)\n",
        "\n",
        "  prediction = model.predict(img_array)\n",
        "\n",
        "  pred_class = np.argmax(prediction)\n",
        "\n",
        "  return folders[pred_class]"
      ],
      "execution_count": null,
      "outputs": []
    },
    {
      "cell_type": "code",
      "metadata": {
        "colab": {
          "base_uri": "https://localhost:8080/",
          "height": 35
        },
        "id": "DhhCkvYe3qLH",
        "outputId": "4971d25b-8357-477d-a7a4-067e96d5a541"
      },
      "source": [
        "make_prediction('/content/a3708fed-2ebc-4d10-bc8a-0c04dcd9a9db.jpeg') "
      ],
      "execution_count": null,
      "outputs": [
        {
          "output_type": "execute_result",
          "data": {
            "application/vnd.google.colaboratory.intrinsic+json": {
              "type": "string"
            },
            "text/plain": [
              "'cheese_plate'"
            ]
          },
          "metadata": {
            "tags": []
          },
          "execution_count": 14
        }
      ]
    },
    {
      "cell_type": "code",
      "metadata": {
        "id": "e62jzFZf4STs"
      },
      "source": [
        "import os\n",
        "import random\n",
        "def top_losses():\n",
        "  '''\n",
        "  This function randomly picks 10 pictures from each class, and finds the accuracy for each class\n",
        "  '''\n",
        "  results = {}\n",
        "  for folder in folders: # for each class \n",
        "    result = []\n",
        "    path = '/content/drive/MyDrive/Food_Images/food-101/images/' + folder\n",
        "    \n",
        "    for i in range(10): # iterate 10 times\n",
        "      image_name = random.sample(os.listdir(path), 1)[0] # randomly pick a file name\n",
        "      predicted_class = make_prediction(path + '/' + image_name)\n",
        "      t = (predicted_class, folder)\n",
        "      result.append(t[0] == t[1]) # check if the predicted class is the same as the actual class\n",
        "    \n",
        "    results[folder] = sum(result) / len(result) # find the proportion of correct predictions\n",
        "  return results"
      ],
      "execution_count": null,
      "outputs": []
    },
    {
      "cell_type": "code",
      "metadata": {
        "colab": {
          "base_uri": "https://localhost:8080/"
        },
        "id": "lCakZ4Lb7MUU",
        "outputId": "080c0279-7ae4-40e2-9378-c2908c7fd3ea"
      },
      "source": [
        "result = top_losses()\n",
        "result"
      ],
      "execution_count": null,
      "outputs": [
        {
          "output_type": "execute_result",
          "data": {
            "text/plain": [
              "{'apple_pie': 0.0,\n",
              " 'baby_back_ribs': 0.4,\n",
              " 'baklava': 0.2,\n",
              " 'beef_carpaccio': 0.7,\n",
              " 'beef_tartare': 0.0,\n",
              " 'beet_salad': 0.4,\n",
              " 'beignets': 0.5,\n",
              " 'bibimbap': 0.3,\n",
              " 'bread_pudding': 0.3,\n",
              " 'breakfast_burrito': 0.1,\n",
              " 'bruschetta': 0.0,\n",
              " 'caesar_salad': 0.3,\n",
              " 'cannoli': 0.5,\n",
              " 'caprese_salad': 0.6,\n",
              " 'carrot_cake': 0.2,\n",
              " 'ceviche': 0.4,\n",
              " 'cheese_plate': 0.0,\n",
              " 'cheesecake': 0.0,\n",
              " 'chicken_curry': 0.4,\n",
              " 'chicken_quesadilla': 0.3,\n",
              " 'chicken_wings': 0.1,\n",
              " 'chocolate_cake': 0.6,\n",
              " 'chocolate_mousse': 0.3,\n",
              " 'churros': 0.6,\n",
              " 'clam_chowder': 0.5,\n",
              " 'club_sandwich': 0.4,\n",
              " 'crab_cakes': 0.6,\n",
              " 'creme_brulee': 0.5,\n",
              " 'croque_madame': 0.4,\n",
              " 'cup_cakes': 0.3,\n",
              " 'deviled_eggs': 0.6,\n",
              " 'donuts': 0.8,\n",
              " 'dumplings': 0.5,\n",
              " 'edamame': 1.0,\n",
              " 'eggs_benedict': 0.3,\n",
              " 'escargots': 0.5,\n",
              " 'falafel': 0.4,\n",
              " 'filet_mignon': 0.4,\n",
              " 'fish_and_chips': 0.3,\n",
              " 'foie_gras': 0.2,\n",
              " 'french_fries': 0.7,\n",
              " 'french_onion_soup': 0.7,\n",
              " 'french_toast': 0.0,\n",
              " 'fried_calamari': 0.1,\n",
              " 'fried_rice': 0.8,\n",
              " 'frozen_yogurt': 0.9,\n",
              " 'garlic_bread': 0.6,\n",
              " 'gnocchi': 0.1,\n",
              " 'greek_salad': 0.2,\n",
              " 'grilled_cheese_sandwich': 0.6,\n",
              " 'grilled_salmon': 0.3,\n",
              " 'guacamole': 0.6,\n",
              " 'gyoza': 0.0,\n",
              " 'hamburger': 0.7,\n",
              " 'hot_and_sour_soup': 0.6,\n",
              " 'hot_dog': 0.7,\n",
              " 'huevos_rancheros': 0.1,\n",
              " 'hummus': 0.3,\n",
              " 'ice_cream': 0.4,\n",
              " 'lasagna': 0.3,\n",
              " 'lobster_bisque': 0.7,\n",
              " 'lobster_roll_sandwich': 0.4,\n",
              " 'macaroni_and_cheese': 0.2,\n",
              " 'macarons': 0.8,\n",
              " 'miso_soup': 0.7,\n",
              " 'mussels': 0.5,\n",
              " 'nachos': 0.3,\n",
              " 'omelette': 0.2,\n",
              " 'onion_rings': 0.4,\n",
              " 'oysters': 0.7,\n",
              " 'pad_thai': 0.8,\n",
              " 'paella': 0.6,\n",
              " 'pancakes': 0.0,\n",
              " 'panna_cotta': 0.0,\n",
              " 'peking_duck': 0.1,\n",
              " 'pho': 0.6,\n",
              " 'pizza': 0.8,\n",
              " 'pork_chop': 0.3,\n",
              " 'poutine': 0.7,\n",
              " 'prime_rib': 0.2,\n",
              " 'pulled_pork_sandwich': 0.2,\n",
              " 'ramen': 0.4,\n",
              " 'ravioli': 0.3,\n",
              " 'red_velvet_cake': 0.4,\n",
              " 'risotto': 0.3,\n",
              " 'samosa': 0.7,\n",
              " 'sashimi': 0.3,\n",
              " 'scallops': 0.5,\n",
              " 'seaweed_salad': 0.2,\n",
              " 'shrimp_and_grits': 0.0,\n",
              " 'spaghetti_bolognese': 0.5,\n",
              " 'spaghetti_carbonara': 0.1,\n",
              " 'spring_rolls': 0.6,\n",
              " 'steak': 0.3,\n",
              " 'strawberry_shortcake': 0.7,\n",
              " 'sushi': 0.6,\n",
              " 'tacos': 0.2,\n",
              " 'takoyaki': 0.3,\n",
              " 'tiramisu': 0.2,\n",
              " 'tuna_tartare': 0.1,\n",
              " 'waffles': 0.5}"
            ]
          },
          "metadata": {
            "tags": []
          },
          "execution_count": 8
        }
      ]
    },
    {
      "cell_type": "code",
      "metadata": {
        "colab": {
          "base_uri": "https://localhost:8080/"
        },
        "id": "ZYAd4QTeTTeJ",
        "outputId": "83e826c4-9740-4bf4-91ea-2b1f17d0f9e1"
      },
      "source": [
        "# find food classes that have a poor classification accuracy\n",
        "index = [i for i,x in enumerate(result.values()) if x <= 0.1]\n",
        "worst = [folders[i] for i in index]\n",
        "worst"
      ],
      "execution_count": null,
      "outputs": [
        {
          "output_type": "execute_result",
          "data": {
            "text/plain": [
              "['bruschetta',\n",
              " 'cheesecake',\n",
              " 'cheese_plate',\n",
              " 'chocolate_cake',\n",
              " 'chocolate_mousse',\n",
              " 'falafel',\n",
              " 'filet_mignon',\n",
              " 'greek_salad',\n",
              " 'grilled_salmon',\n",
              " 'pork_chop',\n",
              " 'ravioli',\n",
              " 'tiramisu',\n",
              " 'tuna_tartare']"
            ]
          },
          "metadata": {
            "tags": []
          },
          "execution_count": 37
        }
      ]
    },
    {
      "cell_type": "code",
      "metadata": {
        "colab": {
          "base_uri": "https://localhost:8080/"
        },
        "id": "7ApqXb__UYyf",
        "outputId": "f2c6e5db-6fa6-48d3-ac08-e6c545736dc0"
      },
      "source": [
        "# find the best classified foods\n",
        "index = [i for i,x in enumerate(result.values()) if x >= 0.9]\n",
        "best = [folders[i] for i in index]\n",
        "best"
      ],
      "execution_count": null,
      "outputs": [
        {
          "output_type": "execute_result",
          "data": {
            "text/plain": [
              "['dumplings', 'edamame', 'frozen_yogurt', 'onion_rings']"
            ]
          },
          "metadata": {
            "tags": []
          },
          "execution_count": 36
        }
      ]
    },
    {
      "cell_type": "code",
      "metadata": {
        "colab": {
          "base_uri": "https://localhost:8080/"
        },
        "id": "Rw1BgmvLV9e6",
        "outputId": "2e441ffb-1c25-4094-fbca-d141412f5057"
      },
      "source": [
        "# Average accuracy for all our samples \n",
        "sum(result.values()) / len(result.values())"
      ],
      "execution_count": null,
      "outputs": [
        {
          "output_type": "execute_result",
          "data": {
            "text/plain": [
              "0.43465346534653476"
            ]
          },
          "metadata": {
            "tags": []
          },
          "execution_count": 44
        }
      ]
    },
    {
      "cell_type": "code",
      "metadata": {
        "colab": {
          "base_uri": "https://localhost:8080/"
        },
        "id": "3vIArtLTWRAH",
        "outputId": "df91f3f2-efe6-4842-a6a9-62a2dac1bb4b"
      },
      "source": [
        "np.median(result.values())"
      ],
      "execution_count": null,
      "outputs": [
        {
          "output_type": "execute_result",
          "data": {
            "text/plain": [
              "0.5"
            ]
          },
          "metadata": {
            "tags": []
          },
          "execution_count": 55
        }
      ]
    },
    {
      "cell_type": "code",
      "metadata": {
        "colab": {
          "base_uri": "https://localhost:8080/",
          "height": 336
        },
        "id": "IU5IMT3mWxM1",
        "outputId": "390a9088-2762-43bc-c47f-64f16c590c8b"
      },
      "source": [
        "# plot the distrbution of class accuracy\n",
        "import matplotlib.pyplot as plt\n",
        "import seaborn as sns\n",
        "\n",
        "sns.distplot(list(result.values()))"
      ],
      "execution_count": null,
      "outputs": [
        {
          "output_type": "stream",
          "text": [
            "/usr/local/lib/python3.6/dist-packages/seaborn/distributions.py:2551: FutureWarning: `distplot` is a deprecated function and will be removed in a future version. Please adapt your code to use either `displot` (a figure-level function with similar flexibility) or `histplot` (an axes-level function for histograms).\n",
            "  warnings.warn(msg, FutureWarning)\n"
          ],
          "name": "stderr"
        },
        {
          "output_type": "execute_result",
          "data": {
            "text/plain": [
              "<matplotlib.axes._subplots.AxesSubplot at 0x7fcb1d420b70>"
            ]
          },
          "metadata": {
            "tags": []
          },
          "execution_count": 56
        },
        {
          "output_type": "display_data",
          "data": {
            "image/png": "[encoded data removed]",
            "text/plain": [
              "<Figure size 432x288 with 1 Axes>"
            ]
          },
          "metadata": {
            "tags": [],
            "needs_background": "light"
          }
        }
      ]
    },
    {
      "cell_type": "code",
      "metadata": {
        "colab": {
          "base_uri": "https://localhost:8080/"
        },
        "id": "a-SUoI4bqIDd",
        "outputId": "3839ed3f-ce19-476e-d919-678eafac404d"
      },
      "source": [
        "model.save('/content/drive/MyDrive/Food_Images/vgg19_v2.h', )"
      ],
      "execution_count": null,
      "outputs": [
        {
          "output_type": "stream",
          "text": [
            "INFO:tensorflow:Assets written to: /content/drive/MyDrive/Food_Images/vgg19_v2.h/assets\n"
          ],
          "name": "stdout"
        }
      ]
    }
  ]
}